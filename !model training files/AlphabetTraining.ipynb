{
 "cells": [
  {
   "cell_type": "code",
   "execution_count": 9,
   "id": "41fde9ae-e4bc-4cb9-8174-6f313c1ec519",
   "metadata": {},
   "outputs": [],
   "source": [
    "import pandas as pd\n",
    "import numpy as np\n",
    "from sklearn.model_selection import train_test_split\n",
    "from sklearn.preprocessing import LabelEncoder\n",
    "import tensorflow as tf\n",
    "from tensorflow.keras.models import Sequential\n",
    "from tensorflow.keras.layers import Conv1D, MaxPooling1D, Flatten, Dense, Dropout,BatchNormalization\n",
    "import cv2\n",
    "import mediapipe as mp\n",
    "import os\n",
    "import numpy as np\n",
    "from IPython.display import clear_output\n",
    "import time\n",
    "from tensorflow.keras.optimizers import AdamW\n",
    "from tensorflow.keras.callbacks import ReduceLROnPlateau,EarlyStopping\n",
    "from tensorflow.keras.regularizers import l2"
   ]
  },
  {
   "cell_type": "code",
   "execution_count": 10,
   "id": "97aa4fd4-ee40-4d63-9757-3c1a4d0d9efd",
   "metadata": {},
   "outputs": [],
   "source": [
    "gesture_labels = {\n",
    "    0: 'ain', 1: 'aleff', 2: 'bb', 3: 'dal', 4: 'dha', 5: 'dhad', 6: 'fa', 7: 'gaaf', \n",
    "    8: 'ghain', 9: 'ha', 10: 'haa', 11: 'jeem', 12: 'kaaf', 13: 'khaa', 14: 'laam', \n",
    "    15: 'meem', 16: 'nun', 17: 'ra', 18: 'saad', 19: 'seen', 20: 'sheen', 21: 'ta', \n",
    "    22: 'taa', 23: 'thaa', 24: 'thal', 25: 'waw', 26: 'yaa', 27: 'zay'\n",
    "}\n",
    "ARABIC_LETTERS_MAP = {\n",
    "    0: (\"ع\", \"Ayn\"),        # matches 'ain' in gesture_labels\n",
    "    1: (\"ا\", \"alif\"),       # matches 'aleff' in gesture_labels\n",
    "    2: (\"ب\", \"baa\"),        # matches 'bb' in gesture_labels\n",
    "    3: (\"د\", \"daal\"),       # matches 'dal' in gesture_labels\n",
    "    4: (\"ض\", \"Daad\"),       # matches 'dha' in gesture_labels\n",
    "    5: (\"ذ\", \"thal\"),       # matches 'dhad' in gesture_labels\n",
    "    6: (\"ف\", \"faa\"),        # matches 'fa' in gesture_labels\n",
    "    7: (\"ق\", \"qaaf\"),       # matches 'gaaf' in gesture_labels\n",
    "    8: (\"غ\", \"ghayn\"),      # matches 'ghain' in gesture_labels\n",
    "    9: (\"ه\", \"haaw\"),       # matches 'ha' in gesture_labels\n",
    "    10: (\"ح\", \"Haa\"),       # matches 'haa' in gesture_labels\n",
    "    11: (\"ج\", \"Jiim\"),      # matches 'jeem' in gesture_labels\n",
    "    12: (\"ك\", \"kaaf\"),      # matches 'kaaf' in gesture_labels\n",
    "    13: (\"خ\", \"kha\"),       # matches 'khaa' in gesture_labels\n",
    "    14: (\"ل\", \"laam\"),      # matches 'laam' in gesture_labels\n",
    "    15: (\"م\", \"miim\"),      # matches 'meem' in gesture_labels\n",
    "    16: (\"ن\", \"noon\"),      # matches 'nun' in gesture_labels\n",
    "    17: (\"ر\", \"raa\"),       # matches 'ra' in gesture_labels\n",
    "    18: (\"ص\", \"Saad\"),      # matches 'saad' in gesture_labels\n",
    "    19: (\"س\", \"siin\"),      # matches 'seen' in gesture_labels\n",
    "    20: (\"ش\", \"shiin\"),     # matches 'sheen' in gesture_labels\n",
    "    21: (\"ت\", \"ta\"),        # matches 'ta' in gesture_labels\n",
    "    22: (\"ط\", \"Taa\"),       # matches 'taa' in gesture_labels\n",
    "    23: (\"ث\", \"tha\"),       # matches 'thaa' in gesture_labels\n",
    "    24: (\"ذ\", \"thal\"),      # matches 'thal' in gesture_labels\n",
    "    25: (\"و\", \"waaw\"),      # matches 'waw' in gesture_labels\n",
    "    26: (\"ي\", \"yaa\"),       # matches 'yaa' in gesture_labels\n",
    "    27: (\"ز\", \"zay\"),       # matches 'zay' in gesture_labels\n",
    "}\n",
    "\n",
    "DATA_DIR = \"/home/mercy/Jupyter-Work/Final Year Project/train_landmarks\"  # Path to your extracted landmark .npy files\n",
    "TEST_SIZE = 0.2 "
   ]
  },
  {
   "cell_type": "code",
   "execution_count": 11,
   "id": "5688f0c4-da6d-44a9-bd73-974e645d4dd0",
   "metadata": {},
   "outputs": [
    {
     "name": "stdout",
     "output_type": "stream",
     "text": [
      "Final shapes:\n",
      "Train: X=(17580, 63, 1), y=(17580,)\n",
      "Test: X=(4396, 63, 1), y=(4396,)\n"
     ]
    }
   ],
   "source": [
    "import numpy as np\n",
    "import pandas as pd\n",
    "from sklearn.preprocessing import LabelEncoder\n",
    "from sklearn.model_selection import train_test_split\n",
    "from sklearn.utils import shuffle\n",
    "\n",
    "# 1. Load and prepare CSV data (63 landmarks)\n",
    "df = pd.read_csv(\"/home/mercy/Jupyter-Work/Final Year Project/train_landmarks/hand_landmarks3.csv\")\n",
    "X_csv = df.iloc[:, :-1].values  # Shape: (N, 63)\n",
    "y_csv = df.iloc[:, -1].values   # Shape: (N,)\n",
    "\n",
    "# Encode CSV labels (using gesture_labels mapping)\n",
    "label_encoder = LabelEncoder()\n",
    "y_csv = label_encoder.fit_transform(y_csv)  # Now 0-27 matching gesture_labels\n",
    "\n",
    "# 2. Load and prepare NPY data (99 landmarks)\n",
    "X_npy = []\n",
    "y_npy = []\n",
    "\n",
    "# Create mapping from ARABIC_LETTERS_MAP to gesture_labels indices\n",
    "arabic_to_gesture_idx = {\n",
    "    32: 1,   # alif -> aleff (1)\n",
    "    33: 2,   # baa -> bb (2)\n",
    "    34: 21,  # ta -> ta (21)\n",
    "    35: 23,  # tha -> thaa (23)\n",
    "    36: 11,  # Jiim -> jeem (11)\n",
    "    37: 10,  # Haa -> haa (10)\n",
    "    38: 13,  # kha -> khaa (13)\n",
    "    39: 3,   # daal -> dal (3)\n",
    "    40: 24,  # thal -> thal (24)\n",
    "    41: 17,  # raa -> ra (17)\n",
    "    42: 27,  # zay -> zay (27)\n",
    "    43: 19,  # siin -> seen (19)\n",
    "    44: 20,  # shiin -> sheen (20)\n",
    "    45: 18,  # Saad -> saad (18)\n",
    "    46: 4,   # Daad -> dha (4)\n",
    "    47: 22,  # Taa -> taa (22)\n",
    "    48: 23,  # Zaa -> thaa (23) [Note: conflict]\n",
    "    49: 0,   # Ayn -> ain (0)\n",
    "    50: 8,   # ghayn -> ghain (8)\n",
    "    51: 6,   # faa -> fa (6)\n",
    "    52: 7,   # qaaf -> gaaf (7)\n",
    "    53: 12,  # kaaf -> kaaf (12)\n",
    "    54: 14,  # laam -> laam (14)\n",
    "    55: 15,  # miim -> meem (15)\n",
    "    56: 16,  # noon -> nun (16)\n",
    "    57: 9,   # haaw -> ha (9)\n",
    "    58: 25,  # waaw -> waw (25)\n",
    "    59: 26   # yaa -> yaa (26)\n",
    "}\n",
    "\n",
    "for label_folder in os.listdir(DATA_DIR):\n",
    "    folder_path = os.path.join(DATA_DIR, label_folder)\n",
    "    if not os.path.isdir(folder_path):\n",
    "        continue\n",
    "\n",
    "    try:\n",
    "        numeric_label = int(label_folder)\n",
    "        if numeric_label not in arabic_to_gesture_idx:\n",
    "            continue  # Skip unmapped labels\n",
    "\n",
    "        for file_name in os.listdir(folder_path):\n",
    "            if file_name.endswith('.npy'):\n",
    "                file_path = os.path.join(folder_path, file_name)\n",
    "                sample = np.load(file_path)\n",
    "                \n",
    "                sample.shape == (63,)\n",
    "                X_npy.append(sample)  # Use as-is\n",
    "                y_npy.append(arabic_to_gesture_idx[numeric_label])\n",
    "\n",
    "    except ValueError:\n",
    "        continue\n",
    "\n",
    "X_npy = np.array(X_npy, dtype=np.float32)  # Shape: (M, 63)\n",
    "y_npy = np.array(y_npy, dtype=np.int32)    # Shape: (M,)\n",
    "\n",
    "# 3. Combine datasets\n",
    "X_combined = np.concatenate([X_csv, X_npy], axis=0)\n",
    "y_combined = np.concatenate([y_csv, y_npy], axis=0)\n",
    "\n",
    "# 4. Shuffle and split\n",
    "X_combined, y_combined = shuffle(X_combined, y_combined, random_state=42)\n",
    "\n",
    "X_train, X_test, y_train, y_test = train_test_split(\n",
    "    X_combined,\n",
    "    y_combined,\n",
    "    test_size=0.2,\n",
    "    stratify=y_combined,\n",
    "    random_state=42\n",
    ")\n",
    "\n",
    "# 5. Reshape for CNN\n",
    "X_train = X_train.reshape(-1, 63, 1)\n",
    "X_test = X_test.reshape(-1, 63, 1)\n",
    "\n",
    "print(\"Final shapes:\")\n",
    "print(f\"Train: X={X_train.shape}, y={y_train.shape}\")\n",
    "print(f\"Test: X={X_test.shape}, y={y_test.shape}\")"
   ]
  },
  {
   "cell_type": "code",
   "execution_count": 24,
   "id": "cef79287-05f0-4ed2-a2de-817c54f4f734",
   "metadata": {},
   "outputs": [],
   "source": [
    "def create_1d_cnn(input_shape, num_classes):\n",
    "    model = Sequential([\n",
    "        # First Convolutional Block\n",
    "        Conv1D(filters=64, kernel_size=5, activation='relu', kernel_regularizer=l2(0.0001), input_shape=input_shape),\n",
    "        BatchNormalization(),\n",
    "        MaxPooling1D(pool_size=2),\n",
    "\n",
    "        # Second Convolutional Block\n",
    "        Conv1D(filters=128, kernel_size=5, activation='relu', kernel_regularizer=l2(0.0001)),\n",
    "        BatchNormalization(),\n",
    "        MaxPooling1D(pool_size=2),\n",
    "\n",
    "        # Third Convolutional Block\n",
    "        Conv1D(filters=256, kernel_size=3, activation='relu', kernel_regularizer=l2(0.0001)),\n",
    "        BatchNormalization(),\n",
    "        MaxPooling1D(pool_size=2),\n",
    "\n",
    "        # Fully Connected Layers\n",
    "        Flatten(),\n",
    "        Dense(128, activation='relu', kernel_regularizer=l2(0.0001)),\n",
    "        Dense(28, activation='softmax')\n",
    "    ])\n",
    "    \n",
    "    return model"
   ]
  },
  {
   "cell_type": "code",
   "execution_count": 28,
   "id": "297a454b-cfeb-4fac-9b8e-9bca5a86df44",
   "metadata": {},
   "outputs": [],
   "source": [
    "input_shape = (63, 1)  # 63 landmarks × 1 channel (static gesture)\n",
    "num_classes = len(np.unique(y_train))\n"
   ]
  },
  {
   "cell_type": "code",
   "execution_count": 29,
   "id": "bc5d142d-6b28-483a-9d85-dd40492ce45f",
   "metadata": {},
   "outputs": [
    {
     "name": "stderr",
     "output_type": "stream",
     "text": [
      "/home/mercy/miniconda3/envs/myenv/lib/python3.10/site-packages/keras/src/layers/convolutional/base_conv.py:107: UserWarning: Do not pass an `input_shape`/`input_dim` argument to a layer. When using Sequential models, prefer using an `Input(shape)` object as the first layer in the model instead.\n",
      "  super().__init__(activity_regularizer=activity_regularizer, **kwargs)\n",
      "I0000 00:00:1752160273.902069     509 gpu_device.cc:2019] Created device /job:localhost/replica:0/task:0/device:GPU:0 with 4699 MB memory:  -> device: 0, name: NVIDIA GeForce GTX 1060 6GB, pci bus id: 0000:01:00.0, compute capability: 6.1\n"
     ]
    }
   ],
   "source": [
    "model = create_1d_cnn(input_shape, num_classes)"
   ]
  },
  {
   "cell_type": "code",
   "execution_count": 30,
   "id": "c5893225-d5b8-4ed2-bd19-a4e5fd4931ba",
   "metadata": {},
   "outputs": [],
   "source": [
    "optimizer = AdamW(learning_rate=0.0005, weight_decay=0.0001)\n",
    "model.compile(optimizer=optimizer, loss='sparse_categorical_crossentropy', metrics=['accuracy'])"
   ]
  },
  {
   "cell_type": "code",
   "execution_count": 31,
   "id": "644865c2-c944-4bcf-863f-8feb91fa8294",
   "metadata": {},
   "outputs": [
    {
     "data": {
      "text/html": [
       "<pre style=\"white-space:pre;overflow-x:auto;line-height:normal;font-family:Menlo,'DejaVu Sans Mono',consolas,'Courier New',monospace\"><span style=\"font-weight: bold\">Model: \"sequential\"</span>\n",
       "</pre>\n"
      ],
      "text/plain": [
       "\u001b[1mModel: \"sequential\"\u001b[0m\n"
      ]
     },
     "metadata": {},
     "output_type": "display_data"
    },
    {
     "data": {
      "text/html": [
       "<pre style=\"white-space:pre;overflow-x:auto;line-height:normal;font-family:Menlo,'DejaVu Sans Mono',consolas,'Courier New',monospace\">┏━━━━━━━━━━━━━━━━━━━━━━━━━━━━━━━━━┳━━━━━━━━━━━━━━━━━━━━━━━━┳━━━━━━━━━━━━━━━┓\n",
       "┃<span style=\"font-weight: bold\"> Layer (type)                    </span>┃<span style=\"font-weight: bold\"> Output Shape           </span>┃<span style=\"font-weight: bold\">       Param # </span>┃\n",
       "┡━━━━━━━━━━━━━━━━━━━━━━━━━━━━━━━━━╇━━━━━━━━━━━━━━━━━━━━━━━━╇━━━━━━━━━━━━━━━┩\n",
       "│ conv1d (<span style=\"color: #0087ff; text-decoration-color: #0087ff\">Conv1D</span>)                 │ (<span style=\"color: #00d7ff; text-decoration-color: #00d7ff\">None</span>, <span style=\"color: #00af00; text-decoration-color: #00af00\">59</span>, <span style=\"color: #00af00; text-decoration-color: #00af00\">64</span>)         │           <span style=\"color: #00af00; text-decoration-color: #00af00\">384</span> │\n",
       "├─────────────────────────────────┼────────────────────────┼───────────────┤\n",
       "│ batch_normalization             │ (<span style=\"color: #00d7ff; text-decoration-color: #00d7ff\">None</span>, <span style=\"color: #00af00; text-decoration-color: #00af00\">59</span>, <span style=\"color: #00af00; text-decoration-color: #00af00\">64</span>)         │           <span style=\"color: #00af00; text-decoration-color: #00af00\">256</span> │\n",
       "│ (<span style=\"color: #0087ff; text-decoration-color: #0087ff\">BatchNormalization</span>)            │                        │               │\n",
       "├─────────────────────────────────┼────────────────────────┼───────────────┤\n",
       "│ max_pooling1d (<span style=\"color: #0087ff; text-decoration-color: #0087ff\">MaxPooling1D</span>)    │ (<span style=\"color: #00d7ff; text-decoration-color: #00d7ff\">None</span>, <span style=\"color: #00af00; text-decoration-color: #00af00\">29</span>, <span style=\"color: #00af00; text-decoration-color: #00af00\">64</span>)         │             <span style=\"color: #00af00; text-decoration-color: #00af00\">0</span> │\n",
       "├─────────────────────────────────┼────────────────────────┼───────────────┤\n",
       "│ conv1d_1 (<span style=\"color: #0087ff; text-decoration-color: #0087ff\">Conv1D</span>)               │ (<span style=\"color: #00d7ff; text-decoration-color: #00d7ff\">None</span>, <span style=\"color: #00af00; text-decoration-color: #00af00\">25</span>, <span style=\"color: #00af00; text-decoration-color: #00af00\">128</span>)        │        <span style=\"color: #00af00; text-decoration-color: #00af00\">41,088</span> │\n",
       "├─────────────────────────────────┼────────────────────────┼───────────────┤\n",
       "│ batch_normalization_1           │ (<span style=\"color: #00d7ff; text-decoration-color: #00d7ff\">None</span>, <span style=\"color: #00af00; text-decoration-color: #00af00\">25</span>, <span style=\"color: #00af00; text-decoration-color: #00af00\">128</span>)        │           <span style=\"color: #00af00; text-decoration-color: #00af00\">512</span> │\n",
       "│ (<span style=\"color: #0087ff; text-decoration-color: #0087ff\">BatchNormalization</span>)            │                        │               │\n",
       "├─────────────────────────────────┼────────────────────────┼───────────────┤\n",
       "│ max_pooling1d_1 (<span style=\"color: #0087ff; text-decoration-color: #0087ff\">MaxPooling1D</span>)  │ (<span style=\"color: #00d7ff; text-decoration-color: #00d7ff\">None</span>, <span style=\"color: #00af00; text-decoration-color: #00af00\">12</span>, <span style=\"color: #00af00; text-decoration-color: #00af00\">128</span>)        │             <span style=\"color: #00af00; text-decoration-color: #00af00\">0</span> │\n",
       "├─────────────────────────────────┼────────────────────────┼───────────────┤\n",
       "│ conv1d_2 (<span style=\"color: #0087ff; text-decoration-color: #0087ff\">Conv1D</span>)               │ (<span style=\"color: #00d7ff; text-decoration-color: #00d7ff\">None</span>, <span style=\"color: #00af00; text-decoration-color: #00af00\">10</span>, <span style=\"color: #00af00; text-decoration-color: #00af00\">256</span>)        │        <span style=\"color: #00af00; text-decoration-color: #00af00\">98,560</span> │\n",
       "├─────────────────────────────────┼────────────────────────┼───────────────┤\n",
       "│ batch_normalization_2           │ (<span style=\"color: #00d7ff; text-decoration-color: #00d7ff\">None</span>, <span style=\"color: #00af00; text-decoration-color: #00af00\">10</span>, <span style=\"color: #00af00; text-decoration-color: #00af00\">256</span>)        │         <span style=\"color: #00af00; text-decoration-color: #00af00\">1,024</span> │\n",
       "│ (<span style=\"color: #0087ff; text-decoration-color: #0087ff\">BatchNormalization</span>)            │                        │               │\n",
       "├─────────────────────────────────┼────────────────────────┼───────────────┤\n",
       "│ max_pooling1d_2 (<span style=\"color: #0087ff; text-decoration-color: #0087ff\">MaxPooling1D</span>)  │ (<span style=\"color: #00d7ff; text-decoration-color: #00d7ff\">None</span>, <span style=\"color: #00af00; text-decoration-color: #00af00\">5</span>, <span style=\"color: #00af00; text-decoration-color: #00af00\">256</span>)         │             <span style=\"color: #00af00; text-decoration-color: #00af00\">0</span> │\n",
       "├─────────────────────────────────┼────────────────────────┼───────────────┤\n",
       "│ flatten (<span style=\"color: #0087ff; text-decoration-color: #0087ff\">Flatten</span>)               │ (<span style=\"color: #00d7ff; text-decoration-color: #00d7ff\">None</span>, <span style=\"color: #00af00; text-decoration-color: #00af00\">1280</span>)           │             <span style=\"color: #00af00; text-decoration-color: #00af00\">0</span> │\n",
       "├─────────────────────────────────┼────────────────────────┼───────────────┤\n",
       "│ dense (<span style=\"color: #0087ff; text-decoration-color: #0087ff\">Dense</span>)                   │ (<span style=\"color: #00d7ff; text-decoration-color: #00d7ff\">None</span>, <span style=\"color: #00af00; text-decoration-color: #00af00\">128</span>)            │       <span style=\"color: #00af00; text-decoration-color: #00af00\">163,968</span> │\n",
       "├─────────────────────────────────┼────────────────────────┼───────────────┤\n",
       "│ dense_1 (<span style=\"color: #0087ff; text-decoration-color: #0087ff\">Dense</span>)                 │ (<span style=\"color: #00d7ff; text-decoration-color: #00d7ff\">None</span>, <span style=\"color: #00af00; text-decoration-color: #00af00\">28</span>)             │         <span style=\"color: #00af00; text-decoration-color: #00af00\">3,612</span> │\n",
       "└─────────────────────────────────┴────────────────────────┴───────────────┘\n",
       "</pre>\n"
      ],
      "text/plain": [
       "┏━━━━━━━━━━━━━━━━━━━━━━━━━━━━━━━━━┳━━━━━━━━━━━━━━━━━━━━━━━━┳━━━━━━━━━━━━━━━┓\n",
       "┃\u001b[1m \u001b[0m\u001b[1mLayer (type)                   \u001b[0m\u001b[1m \u001b[0m┃\u001b[1m \u001b[0m\u001b[1mOutput Shape          \u001b[0m\u001b[1m \u001b[0m┃\u001b[1m \u001b[0m\u001b[1m      Param #\u001b[0m\u001b[1m \u001b[0m┃\n",
       "┡━━━━━━━━━━━━━━━━━━━━━━━━━━━━━━━━━╇━━━━━━━━━━━━━━━━━━━━━━━━╇━━━━━━━━━━━━━━━┩\n",
       "│ conv1d (\u001b[38;5;33mConv1D\u001b[0m)                 │ (\u001b[38;5;45mNone\u001b[0m, \u001b[38;5;34m59\u001b[0m, \u001b[38;5;34m64\u001b[0m)         │           \u001b[38;5;34m384\u001b[0m │\n",
       "├─────────────────────────────────┼────────────────────────┼───────────────┤\n",
       "│ batch_normalization             │ (\u001b[38;5;45mNone\u001b[0m, \u001b[38;5;34m59\u001b[0m, \u001b[38;5;34m64\u001b[0m)         │           \u001b[38;5;34m256\u001b[0m │\n",
       "│ (\u001b[38;5;33mBatchNormalization\u001b[0m)            │                        │               │\n",
       "├─────────────────────────────────┼────────────────────────┼───────────────┤\n",
       "│ max_pooling1d (\u001b[38;5;33mMaxPooling1D\u001b[0m)    │ (\u001b[38;5;45mNone\u001b[0m, \u001b[38;5;34m29\u001b[0m, \u001b[38;5;34m64\u001b[0m)         │             \u001b[38;5;34m0\u001b[0m │\n",
       "├─────────────────────────────────┼────────────────────────┼───────────────┤\n",
       "│ conv1d_1 (\u001b[38;5;33mConv1D\u001b[0m)               │ (\u001b[38;5;45mNone\u001b[0m, \u001b[38;5;34m25\u001b[0m, \u001b[38;5;34m128\u001b[0m)        │        \u001b[38;5;34m41,088\u001b[0m │\n",
       "├─────────────────────────────────┼────────────────────────┼───────────────┤\n",
       "│ batch_normalization_1           │ (\u001b[38;5;45mNone\u001b[0m, \u001b[38;5;34m25\u001b[0m, \u001b[38;5;34m128\u001b[0m)        │           \u001b[38;5;34m512\u001b[0m │\n",
       "│ (\u001b[38;5;33mBatchNormalization\u001b[0m)            │                        │               │\n",
       "├─────────────────────────────────┼────────────────────────┼───────────────┤\n",
       "│ max_pooling1d_1 (\u001b[38;5;33mMaxPooling1D\u001b[0m)  │ (\u001b[38;5;45mNone\u001b[0m, \u001b[38;5;34m12\u001b[0m, \u001b[38;5;34m128\u001b[0m)        │             \u001b[38;5;34m0\u001b[0m │\n",
       "├─────────────────────────────────┼────────────────────────┼───────────────┤\n",
       "│ conv1d_2 (\u001b[38;5;33mConv1D\u001b[0m)               │ (\u001b[38;5;45mNone\u001b[0m, \u001b[38;5;34m10\u001b[0m, \u001b[38;5;34m256\u001b[0m)        │        \u001b[38;5;34m98,560\u001b[0m │\n",
       "├─────────────────────────────────┼────────────────────────┼───────────────┤\n",
       "│ batch_normalization_2           │ (\u001b[38;5;45mNone\u001b[0m, \u001b[38;5;34m10\u001b[0m, \u001b[38;5;34m256\u001b[0m)        │         \u001b[38;5;34m1,024\u001b[0m │\n",
       "│ (\u001b[38;5;33mBatchNormalization\u001b[0m)            │                        │               │\n",
       "├─────────────────────────────────┼────────────────────────┼───────────────┤\n",
       "│ max_pooling1d_2 (\u001b[38;5;33mMaxPooling1D\u001b[0m)  │ (\u001b[38;5;45mNone\u001b[0m, \u001b[38;5;34m5\u001b[0m, \u001b[38;5;34m256\u001b[0m)         │             \u001b[38;5;34m0\u001b[0m │\n",
       "├─────────────────────────────────┼────────────────────────┼───────────────┤\n",
       "│ flatten (\u001b[38;5;33mFlatten\u001b[0m)               │ (\u001b[38;5;45mNone\u001b[0m, \u001b[38;5;34m1280\u001b[0m)           │             \u001b[38;5;34m0\u001b[0m │\n",
       "├─────────────────────────────────┼────────────────────────┼───────────────┤\n",
       "│ dense (\u001b[38;5;33mDense\u001b[0m)                   │ (\u001b[38;5;45mNone\u001b[0m, \u001b[38;5;34m128\u001b[0m)            │       \u001b[38;5;34m163,968\u001b[0m │\n",
       "├─────────────────────────────────┼────────────────────────┼───────────────┤\n",
       "│ dense_1 (\u001b[38;5;33mDense\u001b[0m)                 │ (\u001b[38;5;45mNone\u001b[0m, \u001b[38;5;34m28\u001b[0m)             │         \u001b[38;5;34m3,612\u001b[0m │\n",
       "└─────────────────────────────────┴────────────────────────┴───────────────┘\n"
      ]
     },
     "metadata": {},
     "output_type": "display_data"
    },
    {
     "data": {
      "text/html": [
       "<pre style=\"white-space:pre;overflow-x:auto;line-height:normal;font-family:Menlo,'DejaVu Sans Mono',consolas,'Courier New',monospace\"><span style=\"font-weight: bold\"> Total params: </span><span style=\"color: #00af00; text-decoration-color: #00af00\">309,404</span> (1.18 MB)\n",
       "</pre>\n"
      ],
      "text/plain": [
       "\u001b[1m Total params: \u001b[0m\u001b[38;5;34m309,404\u001b[0m (1.18 MB)\n"
      ]
     },
     "metadata": {},
     "output_type": "display_data"
    },
    {
     "data": {
      "text/html": [
       "<pre style=\"white-space:pre;overflow-x:auto;line-height:normal;font-family:Menlo,'DejaVu Sans Mono',consolas,'Courier New',monospace\"><span style=\"font-weight: bold\"> Trainable params: </span><span style=\"color: #00af00; text-decoration-color: #00af00\">308,508</span> (1.18 MB)\n",
       "</pre>\n"
      ],
      "text/plain": [
       "\u001b[1m Trainable params: \u001b[0m\u001b[38;5;34m308,508\u001b[0m (1.18 MB)\n"
      ]
     },
     "metadata": {},
     "output_type": "display_data"
    },
    {
     "data": {
      "text/html": [
       "<pre style=\"white-space:pre;overflow-x:auto;line-height:normal;font-family:Menlo,'DejaVu Sans Mono',consolas,'Courier New',monospace\"><span style=\"font-weight: bold\"> Non-trainable params: </span><span style=\"color: #00af00; text-decoration-color: #00af00\">896</span> (3.50 KB)\n",
       "</pre>\n"
      ],
      "text/plain": [
       "\u001b[1m Non-trainable params: \u001b[0m\u001b[38;5;34m896\u001b[0m (3.50 KB)\n"
      ]
     },
     "metadata": {},
     "output_type": "display_data"
    }
   ],
   "source": [
    "model.summary()"
   ]
  },
  {
   "cell_type": "code",
   "execution_count": 32,
   "id": "a939351c-7f5a-4a00-b947-1d8f1ec96ff8",
   "metadata": {},
   "outputs": [],
   "source": [
    "reduce_lr = tf.keras.callbacks.ReduceLROnPlateau(\n",
    "    monitor='val_loss', factor=0.5, patience=5, min_lr=1e-6\n",
    ")"
   ]
  },
  {
   "cell_type": "code",
   "execution_count": 33,
   "id": "f99c5288-355d-46af-af8d-965e11974ed3",
   "metadata": {},
   "outputs": [],
   "source": [
    "early_stopping = EarlyStopping(monitor='val_loss', patience=7, restore_best_weights=True, verbose=1)"
   ]
  },
  {
   "cell_type": "code",
   "execution_count": 34,
   "id": "4d65896b-c571-43da-8971-f13b8d0b4e28",
   "metadata": {
    "scrolled": true
   },
   "outputs": [
    {
     "name": "stdout",
     "output_type": "stream",
     "text": [
      "Epoch 1/100\n"
     ]
    },
    {
     "name": "stderr",
     "output_type": "stream",
     "text": [
      "WARNING: All log messages before absl::InitializeLog() is called are written to STDERR\n",
      "I0000 00:00:1752160287.375143   30430 service.cc:152] XLA service 0x704950005b00 initialized for platform CUDA (this does not guarantee that XLA will be used). Devices:\n",
      "I0000 00:00:1752160287.375313   30430 service.cc:160]   StreamExecutor device (0): NVIDIA GeForce GTX 1060 6GB, Compute Capability 6.1\n",
      "2025-07-10 20:11:27.513552: I tensorflow/compiler/mlir/tensorflow/utils/dump_mlir_util.cc:269] disabling MLIR crash reproducer, set env var `MLIR_CRASH_REPRODUCER_DIRECTORY` to enable.\n",
      "I0000 00:00:1752160288.045550   30430 cuda_dnn.cc:529] Loaded cuDNN version 90501\n"
     ]
    },
    {
     "name": "stdout",
     "output_type": "stream",
     "text": [
      "\u001b[1m 25/440\u001b[0m \u001b[32m━\u001b[0m\u001b[37m━━━━━━━━━━━━━━━━━━━\u001b[0m \u001b[1m2s\u001b[0m 7ms/step - accuracy: 0.1024 - loss: 3.5847"
     ]
    },
    {
     "name": "stderr",
     "output_type": "stream",
     "text": [
      "I0000 00:00:1752160293.489495   30430 device_compiler.h:188] Compiled cluster using XLA!  This line is logged at most once for the lifetime of the process.\n"
     ]
    },
    {
     "name": "stdout",
     "output_type": "stream",
     "text": [
      "\u001b[1m440/440\u001b[0m \u001b[32m━━━━━━━━━━━━━━━━━━━━\u001b[0m\u001b[37m\u001b[0m \u001b[1m19s\u001b[0m 24ms/step - accuracy: 0.4805 - loss: 1.8223 - val_accuracy: 0.5660 - val_loss: 1.5032 - learning_rate: 5.0000e-04\n",
      "Epoch 2/100\n",
      "\u001b[1m440/440\u001b[0m \u001b[32m━━━━━━━━━━━━━━━━━━━━\u001b[0m\u001b[37m\u001b[0m \u001b[1m3s\u001b[0m 7ms/step - accuracy: 0.8737 - loss: 0.4648 - val_accuracy: 0.8845 - val_loss: 0.4444 - learning_rate: 5.0000e-04\n",
      "Epoch 3/100\n",
      "\u001b[1m440/440\u001b[0m \u001b[32m━━━━━━━━━━━━━━━━━━━━\u001b[0m\u001b[37m\u001b[0m \u001b[1m3s\u001b[0m 7ms/step - accuracy: 0.9239 - loss: 0.3085 - val_accuracy: 0.9002 - val_loss: 0.3914 - learning_rate: 5.0000e-04\n",
      "Epoch 4/100\n",
      "\u001b[1m440/440\u001b[0m \u001b[32m━━━━━━━━━━━━━━━━━━━━\u001b[0m\u001b[37m\u001b[0m \u001b[1m3s\u001b[0m 7ms/step - accuracy: 0.9339 - loss: 0.2601 - val_accuracy: 0.9258 - val_loss: 0.3102 - learning_rate: 5.0000e-04\n",
      "Epoch 5/100\n",
      "\u001b[1m440/440\u001b[0m \u001b[32m━━━━━━━━━━━━━━━━━━━━\u001b[0m\u001b[37m\u001b[0m \u001b[1m3s\u001b[0m 7ms/step - accuracy: 0.9538 - loss: 0.2085 - val_accuracy: 0.9374 - val_loss: 0.2876 - learning_rate: 5.0000e-04\n",
      "Epoch 6/100\n",
      "\u001b[1m440/440\u001b[0m \u001b[32m━━━━━━━━━━━━━━━━━━━━\u001b[0m\u001b[37m\u001b[0m \u001b[1m3s\u001b[0m 7ms/step - accuracy: 0.9606 - loss: 0.1806 - val_accuracy: 0.9283 - val_loss: 0.3121 - learning_rate: 5.0000e-04\n",
      "Epoch 7/100\n",
      "\u001b[1m440/440\u001b[0m \u001b[32m━━━━━━━━━━━━━━━━━━━━\u001b[0m\u001b[37m\u001b[0m \u001b[1m3s\u001b[0m 7ms/step - accuracy: 0.9593 - loss: 0.1839 - val_accuracy: 0.9414 - val_loss: 0.2760 - learning_rate: 5.0000e-04\n",
      "Epoch 8/100\n",
      "\u001b[1m440/440\u001b[0m \u001b[32m━━━━━━━━━━━━━━━━━━━━\u001b[0m\u001b[37m\u001b[0m \u001b[1m3s\u001b[0m 7ms/step - accuracy: 0.9659 - loss: 0.1612 - val_accuracy: 0.9303 - val_loss: 0.3095 - learning_rate: 5.0000e-04\n",
      "Epoch 9/100\n",
      "\u001b[1m440/440\u001b[0m \u001b[32m━━━━━━━━━━━━━━━━━━━━\u001b[0m\u001b[37m\u001b[0m \u001b[1m3s\u001b[0m 7ms/step - accuracy: 0.9655 - loss: 0.1605 - val_accuracy: 0.9480 - val_loss: 0.2545 - learning_rate: 5.0000e-04\n",
      "Epoch 10/100\n",
      "\u001b[1m440/440\u001b[0m \u001b[32m━━━━━━━━━━━━━━━━━━━━\u001b[0m\u001b[37m\u001b[0m \u001b[1m3s\u001b[0m 7ms/step - accuracy: 0.9715 - loss: 0.1475 - val_accuracy: 0.9317 - val_loss: 0.3004 - learning_rate: 5.0000e-04\n",
      "Epoch 11/100\n",
      "\u001b[1m440/440\u001b[0m \u001b[32m━━━━━━━━━━━━━━━━━━━━\u001b[0m\u001b[37m\u001b[0m \u001b[1m5s\u001b[0m 10ms/step - accuracy: 0.9663 - loss: 0.1632 - val_accuracy: 0.9514 - val_loss: 0.2507 - learning_rate: 5.0000e-04\n",
      "Epoch 12/100\n",
      "\u001b[1m440/440\u001b[0m \u001b[32m━━━━━━━━━━━━━━━━━━━━\u001b[0m\u001b[37m\u001b[0m \u001b[1m5s\u001b[0m 11ms/step - accuracy: 0.9746 - loss: 0.1376 - val_accuracy: 0.9391 - val_loss: 0.3134 - learning_rate: 5.0000e-04\n",
      "Epoch 13/100\n",
      "\u001b[1m440/440\u001b[0m \u001b[32m━━━━━━━━━━━━━━━━━━━━\u001b[0m\u001b[37m\u001b[0m \u001b[1m5s\u001b[0m 11ms/step - accuracy: 0.9739 - loss: 0.1367 - val_accuracy: 0.9508 - val_loss: 0.2605 - learning_rate: 5.0000e-04\n",
      "Epoch 14/100\n",
      "\u001b[1m440/440\u001b[0m \u001b[32m━━━━━━━━━━━━━━━━━━━━\u001b[0m\u001b[37m\u001b[0m \u001b[1m5s\u001b[0m 11ms/step - accuracy: 0.9803 - loss: 0.1214 - val_accuracy: 0.9406 - val_loss: 0.2985 - learning_rate: 5.0000e-04\n",
      "Epoch 15/100\n",
      "\u001b[1m440/440\u001b[0m \u001b[32m━━━━━━━━━━━━━━━━━━━━\u001b[0m\u001b[37m\u001b[0m \u001b[1m5s\u001b[0m 12ms/step - accuracy: 0.9754 - loss: 0.1295 - val_accuracy: 0.9548 - val_loss: 0.2661 - learning_rate: 5.0000e-04\n",
      "Epoch 16/100\n",
      "\u001b[1m440/440\u001b[0m \u001b[32m━━━━━━━━━━━━━━━━━━━━\u001b[0m\u001b[37m\u001b[0m \u001b[1m5s\u001b[0m 12ms/step - accuracy: 0.9806 - loss: 0.1203 - val_accuracy: 0.9539 - val_loss: 0.2814 - learning_rate: 5.0000e-04\n",
      "Epoch 17/100\n",
      "\u001b[1m440/440\u001b[0m \u001b[32m━━━━━━━━━━━━━━━━━━━━\u001b[0m\u001b[37m\u001b[0m \u001b[1m5s\u001b[0m 11ms/step - accuracy: 0.9879 - loss: 0.0984 - val_accuracy: 0.9684 - val_loss: 0.2207 - learning_rate: 2.5000e-04\n",
      "Epoch 18/100\n",
      "\u001b[1m440/440\u001b[0m \u001b[32m━━━━━━━━━━━━━━━━━━━━\u001b[0m\u001b[37m\u001b[0m \u001b[1m7s\u001b[0m 16ms/step - accuracy: 0.9963 - loss: 0.0745 - val_accuracy: 0.9693 - val_loss: 0.2196 - learning_rate: 2.5000e-04\n",
      "Epoch 19/100\n",
      "\u001b[1m440/440\u001b[0m \u001b[32m━━━━━━━━━━━━━━━━━━━━\u001b[0m\u001b[37m\u001b[0m \u001b[1m5s\u001b[0m 11ms/step - accuracy: 0.9958 - loss: 0.0738 - val_accuracy: 0.9690 - val_loss: 0.2250 - learning_rate: 2.5000e-04\n",
      "Epoch 20/100\n",
      "\u001b[1m440/440\u001b[0m \u001b[32m━━━━━━━━━━━━━━━━━━━━\u001b[0m\u001b[37m\u001b[0m \u001b[1m4s\u001b[0m 9ms/step - accuracy: 0.9942 - loss: 0.0750 - val_accuracy: 0.9667 - val_loss: 0.2295 - learning_rate: 2.5000e-04\n",
      "Epoch 21/100\n",
      "\u001b[1m440/440\u001b[0m \u001b[32m━━━━━━━━━━━━━━━━━━━━\u001b[0m\u001b[37m\u001b[0m \u001b[1m4s\u001b[0m 9ms/step - accuracy: 0.9965 - loss: 0.0699 - val_accuracy: 0.9644 - val_loss: 0.2426 - learning_rate: 2.5000e-04\n",
      "Epoch 22/100\n",
      "\u001b[1m440/440\u001b[0m \u001b[32m━━━━━━━━━━━━━━━━━━━━\u001b[0m\u001b[37m\u001b[0m \u001b[1m5s\u001b[0m 10ms/step - accuracy: 0.9948 - loss: 0.0781 - val_accuracy: 0.9679 - val_loss: 0.2304 - learning_rate: 2.5000e-04\n",
      "Epoch 23/100\n",
      "\u001b[1m440/440\u001b[0m \u001b[32m━━━━━━━━━━━━━━━━━━━━\u001b[0m\u001b[37m\u001b[0m \u001b[1m5s\u001b[0m 12ms/step - accuracy: 0.9926 - loss: 0.0812 - val_accuracy: 0.9636 - val_loss: 0.2580 - learning_rate: 2.5000e-04\n",
      "Epoch 24/100\n",
      "\u001b[1m440/440\u001b[0m \u001b[32m━━━━━━━━━━━━━━━━━━━━\u001b[0m\u001b[37m\u001b[0m \u001b[1m6s\u001b[0m 15ms/step - accuracy: 0.9955 - loss: 0.0711 - val_accuracy: 0.9724 - val_loss: 0.2072 - learning_rate: 1.2500e-04\n",
      "Epoch 25/100\n",
      "\u001b[1m440/440\u001b[0m \u001b[32m━━━━━━━━━━━━━━━━━━━━\u001b[0m\u001b[37m\u001b[0m \u001b[1m5s\u001b[0m 12ms/step - accuracy: 0.9987 - loss: 0.0598 - val_accuracy: 0.9718 - val_loss: 0.2166 - learning_rate: 1.2500e-04\n",
      "Epoch 26/100\n",
      "\u001b[1m440/440\u001b[0m \u001b[32m━━━━━━━━━━━━━━━━━━━━\u001b[0m\u001b[37m\u001b[0m \u001b[1m5s\u001b[0m 11ms/step - accuracy: 0.9983 - loss: 0.0588 - val_accuracy: 0.9718 - val_loss: 0.2136 - learning_rate: 1.2500e-04\n",
      "Epoch 27/100\n",
      "\u001b[1m440/440\u001b[0m \u001b[32m━━━━━━━━━━━━━━━━━━━━\u001b[0m\u001b[37m\u001b[0m \u001b[1m5s\u001b[0m 11ms/step - accuracy: 0.9992 - loss: 0.0559 - val_accuracy: 0.9693 - val_loss: 0.2122 - learning_rate: 1.2500e-04\n",
      "Epoch 28/100\n",
      "\u001b[1m440/440\u001b[0m \u001b[32m━━━━━━━━━━━━━━━━━━━━\u001b[0m\u001b[37m\u001b[0m \u001b[1m5s\u001b[0m 11ms/step - accuracy: 0.9983 - loss: 0.0563 - val_accuracy: 0.9716 - val_loss: 0.2128 - learning_rate: 1.2500e-04\n",
      "Epoch 29/100\n",
      "\u001b[1m440/440\u001b[0m \u001b[32m━━━━━━━━━━━━━━━━━━━━\u001b[0m\u001b[37m\u001b[0m \u001b[1m5s\u001b[0m 11ms/step - accuracy: 0.9981 - loss: 0.0560 - val_accuracy: 0.9710 - val_loss: 0.2174 - learning_rate: 1.2500e-04\n",
      "Epoch 30/100\n",
      "\u001b[1m440/440\u001b[0m \u001b[32m━━━━━━━━━━━━━━━━━━━━\u001b[0m\u001b[37m\u001b[0m \u001b[1m5s\u001b[0m 11ms/step - accuracy: 0.9994 - loss: 0.0521 - val_accuracy: 0.9733 - val_loss: 0.2062 - learning_rate: 6.2500e-05\n",
      "Epoch 31/100\n",
      "\u001b[1m440/440\u001b[0m \u001b[32m━━━━━━━━━━━━━━━━━━━━\u001b[0m\u001b[37m\u001b[0m \u001b[1m6s\u001b[0m 15ms/step - accuracy: 0.9990 - loss: 0.0517 - val_accuracy: 0.9733 - val_loss: 0.2049 - learning_rate: 6.2500e-05\n",
      "Epoch 32/100\n",
      "\u001b[1m440/440\u001b[0m \u001b[32m━━━━━━━━━━━━━━━━━━━━\u001b[0m\u001b[37m\u001b[0m \u001b[1m5s\u001b[0m 11ms/step - accuracy: 0.9992 - loss: 0.0499 - val_accuracy: 0.9701 - val_loss: 0.2082 - learning_rate: 6.2500e-05\n",
      "Epoch 33/100\n",
      "\u001b[1m440/440\u001b[0m \u001b[32m━━━━━━━━━━━━━━━━━━━━\u001b[0m\u001b[37m\u001b[0m \u001b[1m5s\u001b[0m 11ms/step - accuracy: 0.9991 - loss: 0.0489 - val_accuracy: 0.9730 - val_loss: 0.2039 - learning_rate: 6.2500e-05\n",
      "Epoch 34/100\n",
      "\u001b[1m440/440\u001b[0m \u001b[32m━━━━━━━━━━━━━━━━━━━━\u001b[0m\u001b[37m\u001b[0m \u001b[1m5s\u001b[0m 10ms/step - accuracy: 0.9989 - loss: 0.0485 - val_accuracy: 0.9713 - val_loss: 0.2066 - learning_rate: 6.2500e-05\n",
      "Epoch 35/100\n",
      "\u001b[1m440/440\u001b[0m \u001b[32m━━━━━━━━━━━━━━━━━━━━\u001b[0m\u001b[37m\u001b[0m \u001b[1m6s\u001b[0m 13ms/step - accuracy: 0.9997 - loss: 0.0462 - val_accuracy: 0.9724 - val_loss: 0.2028 - learning_rate: 6.2500e-05\n",
      "Epoch 36/100\n",
      "\u001b[1m440/440\u001b[0m \u001b[32m━━━━━━━━━━━━━━━━━━━━\u001b[0m\u001b[37m\u001b[0m \u001b[1m5s\u001b[0m 12ms/step - accuracy: 0.9992 - loss: 0.0460 - val_accuracy: 0.9730 - val_loss: 0.2031 - learning_rate: 6.2500e-05\n",
      "Epoch 37/100\n",
      "\u001b[1m440/440\u001b[0m \u001b[32m━━━━━━━━━━━━━━━━━━━━\u001b[0m\u001b[37m\u001b[0m \u001b[1m6s\u001b[0m 13ms/step - accuracy: 0.9990 - loss: 0.0458 - val_accuracy: 0.9701 - val_loss: 0.2070 - learning_rate: 6.2500e-05\n",
      "Epoch 38/100\n",
      "\u001b[1m440/440\u001b[0m \u001b[32m━━━━━━━━━━━━━━━━━━━━\u001b[0m\u001b[37m\u001b[0m \u001b[1m4s\u001b[0m 8ms/step - accuracy: 0.9994 - loss: 0.0441 - val_accuracy: 0.9721 - val_loss: 0.1984 - learning_rate: 6.2500e-05\n",
      "Epoch 39/100\n",
      "\u001b[1m440/440\u001b[0m \u001b[32m━━━━━━━━━━━━━━━━━━━━\u001b[0m\u001b[37m\u001b[0m \u001b[1m3s\u001b[0m 8ms/step - accuracy: 0.9989 - loss: 0.0438 - val_accuracy: 0.9710 - val_loss: 0.1983 - learning_rate: 6.2500e-05\n",
      "Epoch 40/100\n",
      "\u001b[1m440/440\u001b[0m \u001b[32m━━━━━━━━━━━━━━━━━━━━\u001b[0m\u001b[37m\u001b[0m \u001b[1m3s\u001b[0m 7ms/step - accuracy: 0.9997 - loss: 0.0412 - val_accuracy: 0.9718 - val_loss: 0.1947 - learning_rate: 6.2500e-05\n",
      "Epoch 41/100\n",
      "\u001b[1m440/440\u001b[0m \u001b[32m━━━━━━━━━━━━━━━━━━━━\u001b[0m\u001b[37m\u001b[0m \u001b[1m3s\u001b[0m 7ms/step - accuracy: 0.9989 - loss: 0.0422 - val_accuracy: 0.9735 - val_loss: 0.1951 - learning_rate: 6.2500e-05\n",
      "Epoch 42/100\n",
      "\u001b[1m440/440\u001b[0m \u001b[32m━━━━━━━━━━━━━━━━━━━━\u001b[0m\u001b[37m\u001b[0m \u001b[1m3s\u001b[0m 7ms/step - accuracy: 0.9995 - loss: 0.0401 - val_accuracy: 0.9716 - val_loss: 0.1971 - learning_rate: 6.2500e-05\n",
      "Epoch 43/100\n",
      "\u001b[1m440/440\u001b[0m \u001b[32m━━━━━━━━━━━━━━━━━━━━\u001b[0m\u001b[37m\u001b[0m \u001b[1m3s\u001b[0m 7ms/step - accuracy: 0.9994 - loss: 0.0409 - val_accuracy: 0.9718 - val_loss: 0.1953 - learning_rate: 6.2500e-05\n",
      "Epoch 44/100\n",
      "\u001b[1m440/440\u001b[0m \u001b[32m━━━━━━━━━━━━━━━━━━━━\u001b[0m\u001b[37m\u001b[0m \u001b[1m3s\u001b[0m 7ms/step - accuracy: 0.9990 - loss: 0.0393 - val_accuracy: 0.9713 - val_loss: 0.1922 - learning_rate: 6.2500e-05\n",
      "Epoch 45/100\n",
      "\u001b[1m440/440\u001b[0m \u001b[32m━━━━━━━━━━━━━━━━━━━━\u001b[0m\u001b[37m\u001b[0m \u001b[1m3s\u001b[0m 7ms/step - accuracy: 0.9995 - loss: 0.0377 - val_accuracy: 0.9718 - val_loss: 0.1943 - learning_rate: 6.2500e-05\n",
      "Epoch 46/100\n",
      "\u001b[1m440/440\u001b[0m \u001b[32m━━━━━━━━━━━━━━━━━━━━\u001b[0m\u001b[37m\u001b[0m \u001b[1m3s\u001b[0m 7ms/step - accuracy: 0.9994 - loss: 0.0371 - val_accuracy: 0.9724 - val_loss: 0.1887 - learning_rate: 6.2500e-05\n",
      "Epoch 47/100\n",
      "\u001b[1m440/440\u001b[0m \u001b[32m━━━━━━━━━━━━━━━━━━━━\u001b[0m\u001b[37m\u001b[0m \u001b[1m6s\u001b[0m 13ms/step - accuracy: 0.9992 - loss: 0.0373 - val_accuracy: 0.9724 - val_loss: 0.1929 - learning_rate: 6.2500e-05\n",
      "Epoch 48/100\n",
      "\u001b[1m440/440\u001b[0m \u001b[32m━━━━━━━━━━━━━━━━━━━━\u001b[0m\u001b[37m\u001b[0m \u001b[1m4s\u001b[0m 10ms/step - accuracy: 0.9994 - loss: 0.0363 - val_accuracy: 0.9718 - val_loss: 0.1897 - learning_rate: 6.2500e-05\n",
      "Epoch 49/100\n",
      "\u001b[1m440/440\u001b[0m \u001b[32m━━━━━━━━━━━━━━━━━━━━\u001b[0m\u001b[37m\u001b[0m \u001b[1m5s\u001b[0m 12ms/step - accuracy: 0.9991 - loss: 0.0360 - val_accuracy: 0.9727 - val_loss: 0.1906 - learning_rate: 6.2500e-05\n",
      "Epoch 50/100\n",
      "\u001b[1m440/440\u001b[0m \u001b[32m━━━━━━━━━━━━━━━━━━━━\u001b[0m\u001b[37m\u001b[0m \u001b[1m5s\u001b[0m 12ms/step - accuracy: 0.9987 - loss: 0.0379 - val_accuracy: 0.9724 - val_loss: 0.1886 - learning_rate: 6.2500e-05\n",
      "Epoch 51/100\n",
      "\u001b[1m440/440\u001b[0m \u001b[32m━━━━━━━━━━━━━━━━━━━━\u001b[0m\u001b[37m\u001b[0m \u001b[1m5s\u001b[0m 12ms/step - accuracy: 0.9988 - loss: 0.0347 - val_accuracy: 0.9730 - val_loss: 0.1870 - learning_rate: 6.2500e-05\n",
      "Epoch 52/100\n",
      "\u001b[1m440/440\u001b[0m \u001b[32m━━━━━━━━━━━━━━━━━━━━\u001b[0m\u001b[37m\u001b[0m \u001b[1m5s\u001b[0m 12ms/step - accuracy: 0.9991 - loss: 0.0339 - val_accuracy: 0.9713 - val_loss: 0.1891 - learning_rate: 6.2500e-05\n",
      "Epoch 53/100\n",
      "\u001b[1m440/440\u001b[0m \u001b[32m━━━━━━━━━━━━━━━━━━━━\u001b[0m\u001b[37m\u001b[0m \u001b[1m6s\u001b[0m 13ms/step - accuracy: 0.9998 - loss: 0.0323 - val_accuracy: 0.9716 - val_loss: 0.1844 - learning_rate: 6.2500e-05\n",
      "Epoch 54/100\n",
      "\u001b[1m440/440\u001b[0m \u001b[32m━━━━━━━━━━━━━━━━━━━━\u001b[0m\u001b[37m\u001b[0m \u001b[1m7s\u001b[0m 15ms/step - accuracy: 0.9995 - loss: 0.0324 - val_accuracy: 0.9721 - val_loss: 0.1916 - learning_rate: 6.2500e-05\n",
      "Epoch 55/100\n",
      "\u001b[1m440/440\u001b[0m \u001b[32m━━━━━━━━━━━━━━━━━━━━\u001b[0m\u001b[37m\u001b[0m \u001b[1m5s\u001b[0m 10ms/step - accuracy: 0.9989 - loss: 0.0331 - val_accuracy: 0.9718 - val_loss: 0.1837 - learning_rate: 6.2500e-05\n",
      "Epoch 56/100\n",
      "\u001b[1m440/440\u001b[0m \u001b[32m━━━━━━━━━━━━━━━━━━━━\u001b[0m\u001b[37m\u001b[0m \u001b[1m4s\u001b[0m 9ms/step - accuracy: 0.9989 - loss: 0.0328 - val_accuracy: 0.9733 - val_loss: 0.1820 - learning_rate: 6.2500e-05\n",
      "Epoch 57/100\n",
      "\u001b[1m440/440\u001b[0m \u001b[32m━━━━━━━━━━━━━━━━━━━━\u001b[0m\u001b[37m\u001b[0m \u001b[1m4s\u001b[0m 10ms/step - accuracy: 0.9998 - loss: 0.0302 - val_accuracy: 0.9735 - val_loss: 0.1868 - learning_rate: 6.2500e-05\n",
      "Epoch 58/100\n",
      "\u001b[1m440/440\u001b[0m \u001b[32m━━━━━━━━━━━━━━━━━━━━\u001b[0m\u001b[37m\u001b[0m \u001b[1m5s\u001b[0m 11ms/step - accuracy: 0.9983 - loss: 0.0321 - val_accuracy: 0.9716 - val_loss: 0.1856 - learning_rate: 6.2500e-05\n",
      "Epoch 59/100\n",
      "\u001b[1m440/440\u001b[0m \u001b[32m━━━━━━━━━━━━━━━━━━━━\u001b[0m\u001b[37m\u001b[0m \u001b[1m5s\u001b[0m 12ms/step - accuracy: 0.9986 - loss: 0.0315 - val_accuracy: 0.9741 - val_loss: 0.1843 - learning_rate: 6.2500e-05\n",
      "Epoch 60/100\n",
      "\u001b[1m440/440\u001b[0m \u001b[32m━━━━━━━━━━━━━━━━━━━━\u001b[0m\u001b[37m\u001b[0m \u001b[1m6s\u001b[0m 14ms/step - accuracy: 0.9998 - loss: 0.0292 - val_accuracy: 0.9738 - val_loss: 0.1872 - learning_rate: 6.2500e-05\n",
      "Epoch 61/100\n",
      "\u001b[1m440/440\u001b[0m \u001b[32m━━━━━━━━━━━━━━━━━━━━\u001b[0m\u001b[37m\u001b[0m \u001b[1m4s\u001b[0m 10ms/step - accuracy: 0.9993 - loss: 0.0299 - val_accuracy: 0.9733 - val_loss: 0.1798 - learning_rate: 6.2500e-05\n",
      "Epoch 62/100\n",
      "\u001b[1m440/440\u001b[0m \u001b[32m━━━━━━━━━━━━━━━━━━━━\u001b[0m\u001b[37m\u001b[0m \u001b[1m4s\u001b[0m 10ms/step - accuracy: 0.9993 - loss: 0.0291 - val_accuracy: 0.9704 - val_loss: 0.1834 - learning_rate: 6.2500e-05\n",
      "Epoch 63/100\n",
      "\u001b[1m440/440\u001b[0m \u001b[32m━━━━━━━━━━━━━━━━━━━━\u001b[0m\u001b[37m\u001b[0m \u001b[1m4s\u001b[0m 10ms/step - accuracy: 0.9992 - loss: 0.0298 - val_accuracy: 0.9716 - val_loss: 0.1925 - learning_rate: 6.2500e-05\n",
      "Epoch 64/100\n",
      "\u001b[1m440/440\u001b[0m \u001b[32m━━━━━━━━━━━━━━━━━━━━\u001b[0m\u001b[37m\u001b[0m \u001b[1m4s\u001b[0m 10ms/step - accuracy: 0.9996 - loss: 0.0283 - val_accuracy: 0.9716 - val_loss: 0.1842 - learning_rate: 6.2500e-05\n",
      "Epoch 65/100\n",
      "\u001b[1m440/440\u001b[0m \u001b[32m━━━━━━━━━━━━━━━━━━━━\u001b[0m\u001b[37m\u001b[0m \u001b[1m3s\u001b[0m 8ms/step - accuracy: 0.9993 - loss: 0.0281 - val_accuracy: 0.9727 - val_loss: 0.1826 - learning_rate: 6.2500e-05\n",
      "Epoch 66/100\n",
      "\u001b[1m440/440\u001b[0m \u001b[32m━━━━━━━━━━━━━━━━━━━━\u001b[0m\u001b[37m\u001b[0m \u001b[1m3s\u001b[0m 7ms/step - accuracy: 0.9994 - loss: 0.0279 - val_accuracy: 0.9727 - val_loss: 0.1858 - learning_rate: 6.2500e-05\n",
      "Epoch 67/100\n",
      "\u001b[1m440/440\u001b[0m \u001b[32m━━━━━━━━━━━━━━━━━━━━\u001b[0m\u001b[37m\u001b[0m \u001b[1m3s\u001b[0m 6ms/step - accuracy: 0.9998 - loss: 0.0259 - val_accuracy: 0.9738 - val_loss: 0.1839 - learning_rate: 3.1250e-05\n",
      "Epoch 68/100\n",
      "\u001b[1m440/440\u001b[0m \u001b[32m━━━━━━━━━━━━━━━━━━━━\u001b[0m\u001b[37m\u001b[0m \u001b[1m4s\u001b[0m 9ms/step - accuracy: 0.9994 - loss: 0.0262 - val_accuracy: 0.9741 - val_loss: 0.1839 - learning_rate: 3.1250e-05\n",
      "Epoch 68: early stopping\n",
      "Restoring model weights from the end of the best epoch: 61.\n"
     ]
    },
    {
     "data": {
      "text/plain": [
       "<keras.src.callbacks.history.History at 0x704a0a1e1090>"
      ]
     },
     "execution_count": 34,
     "metadata": {},
     "output_type": "execute_result"
    }
   ],
   "source": [
    "model.fit(\n",
    "    X_train, y_train,\n",
    "    epochs=100,\n",
    "    batch_size=32,\n",
    "    validation_split=0.2,\n",
    "    verbose=1,\n",
    "    callbacks=[ early_stopping, reduce_lr]\n",
    ")\n"
   ]
  },
  {
   "cell_type": "code",
   "execution_count": 15,
   "id": "a66f4ed7-42e5-4331-82ee-7c8cf3c57800",
   "metadata": {},
   "outputs": [
    {
     "name": "stdout",
     "output_type": "stream",
     "text": [
      "\n",
      "Test Accuracy: 0.9684 0.17176386713981628\n"
     ]
    }
   ],
   "source": [
    "test_loss, test_acc = model.evaluate(X_test, y_test, verbose=0)\n",
    "print(f\"\\nTest Accuracy: {test_acc:.4f} {test_loss}\")"
   ]
  },
  {
   "cell_type": "code",
   "execution_count": 16,
   "id": "c91c9a4d-a9ee-4641-b9f4-4d93e8f9a84b",
   "metadata": {},
   "outputs": [
    {
     "name": "stdout",
     "output_type": "stream",
     "text": [
      "\u001b[1m138/138\u001b[0m \u001b[32m━━━━━━━━━━━━━━━━━━━━\u001b[0m\u001b[37m\u001b[0m \u001b[1m1s\u001b[0m 5ms/step - accuracy: 0.9726 - loss: 0.1543 \n",
      "\u001b[1m138/138\u001b[0m \u001b[32m━━━━━━━━━━━━━━━━━━━━\u001b[0m\u001b[37m\u001b[0m \u001b[1m1s\u001b[0m 5ms/step   \n"
     ]
    }
   ],
   "source": [
    "# Evaluate model on test set\n",
    "test_loss, test_accuracy = model.evaluate(X_test, y_test, verbose=1)\n",
    "\n",
    "# Predict labels for test set\n",
    "y_pred = model.predict(X_test)\n",
    "y_pred_classes = np.argmax(y_pred, axis=1)  # Convert probabilities to class labels\n",
    "y_true_classes = y_test  # Use directly if y_test is already a 1D array of class labels"
   ]
  },
  {
   "cell_type": "code",
   "execution_count": 31,
   "id": "e17ac213-a70a-4ae4-9122-1079382844b3",
   "metadata": {},
   "outputs": [
    {
     "data": {
      "image/png": "[encoded data removed]",
      "text/plain": [
       "<Figure size 2400x1000 with 2 Axes>"
      ]
     },
     "metadata": {},
     "output_type": "display_data"
    }
   ],
   "source": [
    "import numpy as np\n",
    "import matplotlib.pyplot as plt\n",
    "import seaborn as sns\n",
    "from sklearn.metrics import confusion_matrix\n",
    "\n",
    "# Your gesture labels\n",
    "gesture_labels = {\n",
    "    0: 'ain', 1: 'aleff', 2: 'bb', 3: 'dal', 4: 'dha', 5: 'dhad', 6: 'fa', 7: 'gaaf', \n",
    "    8: 'ghain', 9: 'ha', 10: 'haa', 11: 'jeem', 12: 'kaaf', 13: 'khaa', 14: 'laam', \n",
    "    15: 'meem', 16: 'nun', 17: 'ra', 18: 'saad', 19: 'seen', 20: 'sheen', 21: 'ta', \n",
    "    22: 'taa', 23: 'thaa', 24: 'thal', 25: 'waw', 26: 'yaa', 27: 'zay'\n",
    "}\n",
    "\n",
    "# Convert to class names\n",
    "class_names = [gesture_labels[i] for i in sorted(gesture_labels.keys())]\n",
    "\n",
    "# Calculate confusion matrix\n",
    "cm = confusion_matrix(y_true_classes, y_pred_classes, normalize='true')  # Normalized by true labels\n",
    "\n",
    "plt.figure(figsize=(24, 10))  # Large figure for 28 classes\n",
    "\n",
    "# Create heatmap with seaborn\n",
    "ax = sns.heatmap(cm, \n",
    "                 annot=True, \n",
    "                 fmt='.2f', \n",
    "                 cmap='Blues',\n",
    "                 cbar_kws={'label': 'Accuracy'},\n",
    "                 square=True,\n",
    "                 linewidths=0.5,\n",
    "                 annot_kws={'size': 8})\n",
    "\n",
    "# Customize appearance\n",
    "ax.set_xticklabels(class_names, rotation=90, fontsize=10)\n",
    "ax.set_yticklabels(class_names, rotation=0, fontsize=10)\n",
    "plt.xlabel('Predicted Label', fontsize=10)\n",
    "plt.ylabel('True Label', fontsize=10)\n",
    "plt.title(f'Normalized Confusion Matrix (Accuracy: {test_accuracy:.2%})', fontsize=30, pad=20)\n",
    "\n",
    "\n",
    "plt.tight_layout()\n",
    "plt.savefig('confusion_matrix_heatmap.png', dpi=500, bbox_inches='tight')\n",
    "plt.show()"
   ]
  },
  {
   "cell_type": "code",
   "execution_count": 19,
   "id": "673bdb8c-f2cd-40e0-9e73-38addf0fcaca",
   "metadata": {},
   "outputs": [
    {
     "name": "stdout",
     "output_type": "stream",
     "text": [
      "Classification Report:\n",
      "               precision    recall  f1-score   support\n",
      "\n",
      "         ain       0.95      1.00      0.97       153\n",
      "       aleff       0.97      0.99      0.98       163\n",
      "          bb       0.98      0.99      0.99       166\n",
      "         dal       0.93      0.95      0.94       148\n",
      "         dha       0.97      0.95      0.96       155\n",
      "        dhad       0.98      0.95      0.96       136\n",
      "          fa       0.92      0.95      0.94       160\n",
      "        gaaf       0.96      0.97      0.96       147\n",
      "       ghain       1.00      0.96      0.98       157\n",
      "          ha       0.96      0.98      0.97       149\n",
      "         haa       0.91      0.92      0.91       142\n",
      "        jeem       1.00      0.94      0.97       150\n",
      "        kaaf       0.97      0.95      0.96       164\n",
      "        khaa       0.94      0.97      0.95       148\n",
      "        laam       0.99      0.98      0.98       162\n",
      "        meem       0.99      0.98      0.99       160\n",
      "         nun       0.99      0.96      0.97       151\n",
      "          ra       0.97      0.95      0.96       151\n",
      "        saad       0.98      0.99      0.99       166\n",
      "        seen       0.96      0.98      0.97       167\n",
      "       sheen       0.99      0.99      0.99       170\n",
      "          ta       0.99      0.98      0.98       167\n",
      "         taa       0.96      0.97      0.97       153\n",
      "        thaa       0.99      0.98      0.99       192\n",
      "        thal       0.97      0.97      0.97       152\n",
      "         waw       0.93      0.96      0.94       147\n",
      "         yaa       0.98      0.99      0.99       169\n",
      "         zay       0.97      0.95      0.96       151\n",
      "\n",
      "    accuracy                           0.97      4396\n",
      "   macro avg       0.97      0.97      0.97      4396\n",
      "weighted avg       0.97      0.97      0.97      4396\n",
      "\n"
     ]
    }
   ],
   "source": [
    "\n",
    "# Print classification report\n",
    "print(\"Classification Report:\\n\", classification_report(y_true_classes, y_pred_classes, target_names=class_names))"
   ]
  },
  {
   "cell_type": "code",
   "execution_count": 39,
   "id": "e8e5187a-1a67-4285-8a57-246ea8406a65",
   "metadata": {},
   "outputs": [],
   "source": [
    "model.save(\"AlphabetModel.keras\")"
   ]
  },
  {
   "cell_type": "code",
   "execution_count": 7,
   "id": "e4b6e5fc-ac45-41bb-bfa6-ec6df7c77aff",
   "metadata": {},
   "outputs": [],
   "source": [
    "import cv2\n",
    "import numpy as np\n",
    "import mediapipe as mp\n",
    "from tensorflow.keras.models import load_model\n",
    "\n",
    "# Load your trained model\n",
    "model = load_model('AlphabetModel.keras') "
   ]
  },
  {
   "cell_type": "code",
   "execution_count": 6,
   "id": "c8d0e36d-bdd9-4454-9b63-c7636c67fcb5",
   "metadata": {},
   "outputs": [
    {
     "name": "stderr",
     "output_type": "stream",
     "text": [
      "INFO: Created TensorFlow Lite XNNPACK delegate for CPU.\n",
      "WARNING: All log messages before absl::InitializeLog() is called are written to STDERR\n",
      "W0000 00:00:1752237805.963767    1177 inference_feedback_manager.cc:114] Feedback manager requires a model with a single signature inference. Disabling support for feedback tensors.\n",
      "W0000 00:00:1752237806.010049    1177 inference_feedback_manager.cc:114] Feedback manager requires a model with a single signature inference. Disabling support for feedback tensors.\n",
      "[tcp @ 0x1574a2c0] Connection to tcp://192.168.100.141:8080 failed: Connection refused\n"
     ]
    }
   ],
   "source": [
    "# Initialize MediaPipe Hands\n",
    "mp_hands = mp.solutions.hands\n",
    "hands = mp_hands.Hands(\n",
    "    static_image_mode=False,\n",
    "    max_num_hands=1,\n",
    "    min_detection_confidence=0.5,\n",
    "    min_tracking_confidence=0.5)\n",
    "\n",
    "# Gesture labels mapping\n",
    "gesture_labels = {\n",
    "    0: (\"ع\", \"Ayn\"),        # matches 'ain' in gesture_labels\n",
    "    1: (\"ا\", \"alif\"),       # matches 'aleff' in gesture_labels\n",
    "    2: (\"ب\", \"baa\"),        # matches 'bb' in gesture_labels\n",
    "    3: (\"د\", \"daal\"),       # matches 'dal' in gesture_labels\n",
    "    4: (\"ض\", \"Daad\"),       # matches 'dha' in gesture_labels\n",
    "    5: (\"ذ\", \"thal\"),       # matches 'dhad' in gesture_labels\n",
    "    6: (\"ف\", \"faa\"),        # matches 'fa' in gesture_labels\n",
    "    7: (\"ق\", \"qaaf\"),       # matches 'gaaf' in gesture_labels\n",
    "    8: (\"غ\", \"ghayn\"),      # matches 'ghain' in gesture_labels\n",
    "    9: (\"ه\", \"haaw\"),       # matches 'ha' in gesture_labels\n",
    "    10: (\"ح\", \"Haa\"),       # matches 'haa' in gesture_labels\n",
    "    11: (\"ج\", \"Jiim\"),      # matches 'jeem' in gesture_labels\n",
    "    12: (\"ك\", \"kaaf\"),      # matches 'kaaf' in gesture_labels\n",
    "    13: (\"خ\", \"kha\"),       # matches 'khaa' in gesture_labels\n",
    "    14: (\"ل\", \"laam\"),      # matches 'laam' in gesture_labels\n",
    "    15: (\"م\", \"miim\"),      # matches 'meem' in gesture_labels\n",
    "    16: (\"ن\", \"noon\"),      # matches 'nun' in gesture_labels\n",
    "    17: (\"ر\", \"raa\"),       # matches 'ra' in gesture_labels\n",
    "    18: (\"ص\", \"Saad\"),      # matches 'saad' in gesture_labels\n",
    "    19: (\"س\", \"siin\"),      # matches 'seen' in gesture_labels\n",
    "    20: (\"ش\", \"shiin\"),     # matches 'sheen' in gesture_labels\n",
    "    21: (\"ت\", \"ta\"),        # matches 'ta' in gesture_labels\n",
    "    22: (\"ط\", \"Taa\"),       # matches 'taa' in gesture_labels\n",
    "    23: (\"ث\", \"tha\"),       # matches 'thaa' in gesture_labels\n",
    "    24: (\"ذ\", \"thal\"),      # matches 'thal' in gesture_labels\n",
    "    25: (\"و\", \"waaw\"),      # matches 'waw' in gesture_labels\n",
    "    26: (\"ي\", \"yaa\"),       # matches 'yaa' in gesture_labels\n",
    "    27: (\"ز\", \"zay\"),       # matches 'zay' in gesture_labels\n",
    "}\n",
    "\n",
    "# IP Camera setup (replace with your camera URL)\n",
    "ip_camera_url = \"http://192.168.100.141:8080/video\"  # e.g., \"http://192.168.1.100:8080/video\"\n",
    "cap = cv2.VideoCapture(ip_camera_url)\n",
    "\n",
    "# Set desired resolution (adjust based on your camera capabilities)\n",
    "cap.set(cv2.CAP_PROP_FRAME_WIDTH, 1280)\n",
    "cap.set(cv2.CAP_PROP_FRAME_HEIGHT, 720)\n",
    "\n",
    "# ROI (Region of Interest) parameters\n",
    "roi_size = 300  # Size of the square ROI\n",
    "roi_x = 100     # X position of ROI\n",
    "roi_y = 100     # Y position of ROI\n",
    "\n",
    "while cap.isOpened():\n",
    "    ret, frame = cap.read()\n",
    "    if not ret:\n",
    "        print(\"Failed to grab frame\")\n",
    "        break\n",
    "    \n",
    "    # Flip frame horizontally for mirror effect\n",
    "    frame = cv2.flip(frame, 1)\n",
    "    \n",
    "    # Get ROI for processing\n",
    "    roi = frame[roi_y:roi_y+roi_size, roi_x:roi_x+roi_size]\n",
    "    \n",
    "    # Convert ROI to RGB for MediaPipe\n",
    "    roi_rgb = cv2.cvtColor(roi, cv2.COLOR_BGR2RGB)\n",
    "    \n",
    "    # Process with MediaPipe\n",
    "    results = hands.process(roi_rgb)\n",
    "    \n",
    "    # Draw ROI rectangle\n",
    "    cv2.rectangle(frame, (roi_x, roi_y), (roi_x+roi_size, roi_y+roi_size), (0, 255, 0), 2)\n",
    "    \n",
    "    if results.multi_hand_landmarks:\n",
    "        for hand_landmarks in results.multi_hand_landmarks:\n",
    "            # Draw hand landmarks\n",
    "            mp.solutions.drawing_utils.draw_landmarks(\n",
    "                frame[roi_y:roi_y+roi_size, roi_x:roi_x+roi_size],\n",
    "                hand_landmarks,\n",
    "                mp_hands.HAND_CONNECTIONS)\n",
    "            \n",
    "            # Extract landmarks and normalize\n",
    "            landmarks = []\n",
    "            for landmark in hand_landmarks.landmark:\n",
    "                landmarks.extend([landmark.x, landmark.y, landmark.z])\n",
    "            \n",
    "            landmarks = np.array(landmarks[:63])  # Take first 63 values (21 landmarks)\n",
    "            landmarks = landmarks.reshape(1, 63, 1)  # Reshape for model\n",
    "            \n",
    "            # Predict gesture\n",
    "            prediction = model.predict(landmarks)\n",
    "            predicted_class = np.argmax(prediction)\n",
    "            confidence = np.max(prediction)\n",
    "            \n",
    "            # Display prediction\n",
    "            if confidence > 0.7:  # Confidence threshold\n",
    "                gesture = gesture_labels[predicted_class][1]\n",
    "                cv2.putText(frame, f\"{gesture} ({confidence:.2f})\", \n",
    "                            (roi_x, roi_y-10), \n",
    "                            cv2.FONT_HERSHEY_SIMPLEX, 1, (0, 255, 0), 2)\n",
    "    \n",
    "    # Display instructions\n",
    "    cv2.putText(frame, \"Put your hand in the green box\", (10, 30), \n",
    "                cv2.FONT_HERSHEY_SIMPLEX, 0.7, (0, 0, 255), 2)\n",
    "    cv2.putText(frame, \"Press 'q' to quit\", (10, 60), \n",
    "                cv2.FONT_HERSHEY_SIMPLEX, 0.7, (0, 0, 255), 2)\n",
    "    \n",
    "    # Show frame\n",
    "    cv2.imshow('Arabic Sign Language Recognition', frame)\n",
    "    \n",
    "    # Exit on 'q' key\n",
    "    if cv2.waitKey(1) & 0xFF == ord('q'):\n",
    "        break\n",
    "\n",
    "# Cleanup\n",
    "cap.release()\n",
    "cv2.destroyAllWindows()"
   ]
  },
  {
   "cell_type": "code",
   "execution_count": 17,
   "id": "808bb735-f0cd-4840-bf77-fd955b604d4c",
   "metadata": {},
   "outputs": [
    {
     "data": {
      "text/html": [
       "<pre style=\"white-space:pre;overflow-x:auto;line-height:normal;font-family:Menlo,'DejaVu Sans Mono',consolas,'Courier New',monospace\"><span style=\"font-weight: bold\">Model: \"sequential\"</span>\n",
       "</pre>\n"
      ],
      "text/plain": [
       "\u001b[1mModel: \"sequential\"\u001b[0m\n"
      ]
     },
     "metadata": {},
     "output_type": "display_data"
    },
    {
     "data": {
      "text/html": [
       "<pre style=\"white-space:pre;overflow-x:auto;line-height:normal;font-family:Menlo,'DejaVu Sans Mono',consolas,'Courier New',monospace\">┏━━━━━━━━━━━━━━━━━━━━━━━━━━━━━━━━━┳━━━━━━━━━━━━━━━━━━━━━━━━┳━━━━━━━━━━━━━━━┓\n",
       "┃<span style=\"font-weight: bold\"> Layer (type)                    </span>┃<span style=\"font-weight: bold\"> Output Shape           </span>┃<span style=\"font-weight: bold\">       Param # </span>┃\n",
       "┡━━━━━━━━━━━━━━━━━━━━━━━━━━━━━━━━━╇━━━━━━━━━━━━━━━━━━━━━━━━╇━━━━━━━━━━━━━━━┩\n",
       "│ conv1d (<span style=\"color: #0087ff; text-decoration-color: #0087ff\">Conv1D</span>)                 │ (<span style=\"color: #00d7ff; text-decoration-color: #00d7ff\">None</span>, <span style=\"color: #00af00; text-decoration-color: #00af00\">59</span>, <span style=\"color: #00af00; text-decoration-color: #00af00\">64</span>)         │           <span style=\"color: #00af00; text-decoration-color: #00af00\">384</span> │\n",
       "├─────────────────────────────────┼────────────────────────┼───────────────┤\n",
       "│ batch_normalization             │ (<span style=\"color: #00d7ff; text-decoration-color: #00d7ff\">None</span>, <span style=\"color: #00af00; text-decoration-color: #00af00\">59</span>, <span style=\"color: #00af00; text-decoration-color: #00af00\">64</span>)         │           <span style=\"color: #00af00; text-decoration-color: #00af00\">256</span> │\n",
       "│ (<span style=\"color: #0087ff; text-decoration-color: #0087ff\">BatchNormalization</span>)            │                        │               │\n",
       "├─────────────────────────────────┼────────────────────────┼───────────────┤\n",
       "│ max_pooling1d (<span style=\"color: #0087ff; text-decoration-color: #0087ff\">MaxPooling1D</span>)    │ (<span style=\"color: #00d7ff; text-decoration-color: #00d7ff\">None</span>, <span style=\"color: #00af00; text-decoration-color: #00af00\">29</span>, <span style=\"color: #00af00; text-decoration-color: #00af00\">64</span>)         │             <span style=\"color: #00af00; text-decoration-color: #00af00\">0</span> │\n",
       "├─────────────────────────────────┼────────────────────────┼───────────────┤\n",
       "│ conv1d_1 (<span style=\"color: #0087ff; text-decoration-color: #0087ff\">Conv1D</span>)               │ (<span style=\"color: #00d7ff; text-decoration-color: #00d7ff\">None</span>, <span style=\"color: #00af00; text-decoration-color: #00af00\">25</span>, <span style=\"color: #00af00; text-decoration-color: #00af00\">128</span>)        │        <span style=\"color: #00af00; text-decoration-color: #00af00\">41,088</span> │\n",
       "├─────────────────────────────────┼────────────────────────┼───────────────┤\n",
       "│ batch_normalization_1           │ (<span style=\"color: #00d7ff; text-decoration-color: #00d7ff\">None</span>, <span style=\"color: #00af00; text-decoration-color: #00af00\">25</span>, <span style=\"color: #00af00; text-decoration-color: #00af00\">128</span>)        │           <span style=\"color: #00af00; text-decoration-color: #00af00\">512</span> │\n",
       "│ (<span style=\"color: #0087ff; text-decoration-color: #0087ff\">BatchNormalization</span>)            │                        │               │\n",
       "├─────────────────────────────────┼────────────────────────┼───────────────┤\n",
       "│ max_pooling1d_1 (<span style=\"color: #0087ff; text-decoration-color: #0087ff\">MaxPooling1D</span>)  │ (<span style=\"color: #00d7ff; text-decoration-color: #00d7ff\">None</span>, <span style=\"color: #00af00; text-decoration-color: #00af00\">12</span>, <span style=\"color: #00af00; text-decoration-color: #00af00\">128</span>)        │             <span style=\"color: #00af00; text-decoration-color: #00af00\">0</span> │\n",
       "├─────────────────────────────────┼────────────────────────┼───────────────┤\n",
       "│ conv1d_2 (<span style=\"color: #0087ff; text-decoration-color: #0087ff\">Conv1D</span>)               │ (<span style=\"color: #00d7ff; text-decoration-color: #00d7ff\">None</span>, <span style=\"color: #00af00; text-decoration-color: #00af00\">10</span>, <span style=\"color: #00af00; text-decoration-color: #00af00\">256</span>)        │        <span style=\"color: #00af00; text-decoration-color: #00af00\">98,560</span> │\n",
       "├─────────────────────────────────┼────────────────────────┼───────────────┤\n",
       "│ batch_normalization_2           │ (<span style=\"color: #00d7ff; text-decoration-color: #00d7ff\">None</span>, <span style=\"color: #00af00; text-decoration-color: #00af00\">10</span>, <span style=\"color: #00af00; text-decoration-color: #00af00\">256</span>)        │         <span style=\"color: #00af00; text-decoration-color: #00af00\">1,024</span> │\n",
       "│ (<span style=\"color: #0087ff; text-decoration-color: #0087ff\">BatchNormalization</span>)            │                        │               │\n",
       "├─────────────────────────────────┼────────────────────────┼───────────────┤\n",
       "│ max_pooling1d_2 (<span style=\"color: #0087ff; text-decoration-color: #0087ff\">MaxPooling1D</span>)  │ (<span style=\"color: #00d7ff; text-decoration-color: #00d7ff\">None</span>, <span style=\"color: #00af00; text-decoration-color: #00af00\">5</span>, <span style=\"color: #00af00; text-decoration-color: #00af00\">256</span>)         │             <span style=\"color: #00af00; text-decoration-color: #00af00\">0</span> │\n",
       "├─────────────────────────────────┼────────────────────────┼───────────────┤\n",
       "│ flatten (<span style=\"color: #0087ff; text-decoration-color: #0087ff\">Flatten</span>)               │ (<span style=\"color: #00d7ff; text-decoration-color: #00d7ff\">None</span>, <span style=\"color: #00af00; text-decoration-color: #00af00\">1280</span>)           │             <span style=\"color: #00af00; text-decoration-color: #00af00\">0</span> │\n",
       "├─────────────────────────────────┼────────────────────────┼───────────────┤\n",
       "│ dense (<span style=\"color: #0087ff; text-decoration-color: #0087ff\">Dense</span>)                   │ (<span style=\"color: #00d7ff; text-decoration-color: #00d7ff\">None</span>, <span style=\"color: #00af00; text-decoration-color: #00af00\">128</span>)            │       <span style=\"color: #00af00; text-decoration-color: #00af00\">163,968</span> │\n",
       "├─────────────────────────────────┼────────────────────────┼───────────────┤\n",
       "│ dense_1 (<span style=\"color: #0087ff; text-decoration-color: #0087ff\">Dense</span>)                 │ (<span style=\"color: #00d7ff; text-decoration-color: #00d7ff\">None</span>, <span style=\"color: #00af00; text-decoration-color: #00af00\">28</span>)             │         <span style=\"color: #00af00; text-decoration-color: #00af00\">3,612</span> │\n",
       "└─────────────────────────────────┴────────────────────────┴───────────────┘\n",
       "</pre>\n"
      ],
      "text/plain": [
       "┏━━━━━━━━━━━━━━━━━━━━━━━━━━━━━━━━━┳━━━━━━━━━━━━━━━━━━━━━━━━┳━━━━━━━━━━━━━━━┓\n",
       "┃\u001b[1m \u001b[0m\u001b[1mLayer (type)                   \u001b[0m\u001b[1m \u001b[0m┃\u001b[1m \u001b[0m\u001b[1mOutput Shape          \u001b[0m\u001b[1m \u001b[0m┃\u001b[1m \u001b[0m\u001b[1m      Param #\u001b[0m\u001b[1m \u001b[0m┃\n",
       "┡━━━━━━━━━━━━━━━━━━━━━━━━━━━━━━━━━╇━━━━━━━━━━━━━━━━━━━━━━━━╇━━━━━━━━━━━━━━━┩\n",
       "│ conv1d (\u001b[38;5;33mConv1D\u001b[0m)                 │ (\u001b[38;5;45mNone\u001b[0m, \u001b[38;5;34m59\u001b[0m, \u001b[38;5;34m64\u001b[0m)         │           \u001b[38;5;34m384\u001b[0m │\n",
       "├─────────────────────────────────┼────────────────────────┼───────────────┤\n",
       "│ batch_normalization             │ (\u001b[38;5;45mNone\u001b[0m, \u001b[38;5;34m59\u001b[0m, \u001b[38;5;34m64\u001b[0m)         │           \u001b[38;5;34m256\u001b[0m │\n",
       "│ (\u001b[38;5;33mBatchNormalization\u001b[0m)            │                        │               │\n",
       "├─────────────────────────────────┼────────────────────────┼───────────────┤\n",
       "│ max_pooling1d (\u001b[38;5;33mMaxPooling1D\u001b[0m)    │ (\u001b[38;5;45mNone\u001b[0m, \u001b[38;5;34m29\u001b[0m, \u001b[38;5;34m64\u001b[0m)         │             \u001b[38;5;34m0\u001b[0m │\n",
       "├─────────────────────────────────┼────────────────────────┼───────────────┤\n",
       "│ conv1d_1 (\u001b[38;5;33mConv1D\u001b[0m)               │ (\u001b[38;5;45mNone\u001b[0m, \u001b[38;5;34m25\u001b[0m, \u001b[38;5;34m128\u001b[0m)        │        \u001b[38;5;34m41,088\u001b[0m │\n",
       "├─────────────────────────────────┼────────────────────────┼───────────────┤\n",
       "│ batch_normalization_1           │ (\u001b[38;5;45mNone\u001b[0m, \u001b[38;5;34m25\u001b[0m, \u001b[38;5;34m128\u001b[0m)        │           \u001b[38;5;34m512\u001b[0m │\n",
       "│ (\u001b[38;5;33mBatchNormalization\u001b[0m)            │                        │               │\n",
       "├─────────────────────────────────┼────────────────────────┼───────────────┤\n",
       "│ max_pooling1d_1 (\u001b[38;5;33mMaxPooling1D\u001b[0m)  │ (\u001b[38;5;45mNone\u001b[0m, \u001b[38;5;34m12\u001b[0m, \u001b[38;5;34m128\u001b[0m)        │             \u001b[38;5;34m0\u001b[0m │\n",
       "├─────────────────────────────────┼────────────────────────┼───────────────┤\n",
       "│ conv1d_2 (\u001b[38;5;33mConv1D\u001b[0m)               │ (\u001b[38;5;45mNone\u001b[0m, \u001b[38;5;34m10\u001b[0m, \u001b[38;5;34m256\u001b[0m)        │        \u001b[38;5;34m98,560\u001b[0m │\n",
       "├─────────────────────────────────┼────────────────────────┼───────────────┤\n",
       "│ batch_normalization_2           │ (\u001b[38;5;45mNone\u001b[0m, \u001b[38;5;34m10\u001b[0m, \u001b[38;5;34m256\u001b[0m)        │         \u001b[38;5;34m1,024\u001b[0m │\n",
       "│ (\u001b[38;5;33mBatchNormalization\u001b[0m)            │                        │               │\n",
       "├─────────────────────────────────┼────────────────────────┼───────────────┤\n",
       "│ max_pooling1d_2 (\u001b[38;5;33mMaxPooling1D\u001b[0m)  │ (\u001b[38;5;45mNone\u001b[0m, \u001b[38;5;34m5\u001b[0m, \u001b[38;5;34m256\u001b[0m)         │             \u001b[38;5;34m0\u001b[0m │\n",
       "├─────────────────────────────────┼────────────────────────┼───────────────┤\n",
       "│ flatten (\u001b[38;5;33mFlatten\u001b[0m)               │ (\u001b[38;5;45mNone\u001b[0m, \u001b[38;5;34m1280\u001b[0m)           │             \u001b[38;5;34m0\u001b[0m │\n",
       "├─────────────────────────────────┼────────────────────────┼───────────────┤\n",
       "│ dense (\u001b[38;5;33mDense\u001b[0m)                   │ (\u001b[38;5;45mNone\u001b[0m, \u001b[38;5;34m128\u001b[0m)            │       \u001b[38;5;34m163,968\u001b[0m │\n",
       "├─────────────────────────────────┼────────────────────────┼───────────────┤\n",
       "│ dense_1 (\u001b[38;5;33mDense\u001b[0m)                 │ (\u001b[38;5;45mNone\u001b[0m, \u001b[38;5;34m28\u001b[0m)             │         \u001b[38;5;34m3,612\u001b[0m │\n",
       "└─────────────────────────────────┴────────────────────────┴───────────────┘\n"
      ]
     },
     "metadata": {},
     "output_type": "display_data"
    },
    {
     "data": {
      "text/html": [
       "<pre style=\"white-space:pre;overflow-x:auto;line-height:normal;font-family:Menlo,'DejaVu Sans Mono',consolas,'Courier New',monospace\"><span style=\"font-weight: bold\"> Total params: </span><span style=\"color: #00af00; text-decoration-color: #00af00\">926,422</span> (3.53 MB)\n",
       "</pre>\n"
      ],
      "text/plain": [
       "\u001b[1m Total params: \u001b[0m\u001b[38;5;34m926,422\u001b[0m (3.53 MB)\n"
      ]
     },
     "metadata": {},
     "output_type": "display_data"
    },
    {
     "data": {
      "text/html": [
       "<pre style=\"white-space:pre;overflow-x:auto;line-height:normal;font-family:Menlo,'DejaVu Sans Mono',consolas,'Courier New',monospace\"><span style=\"font-weight: bold\"> Trainable params: </span><span style=\"color: #00af00; text-decoration-color: #00af00\">308,508</span> (1.18 MB)\n",
       "</pre>\n"
      ],
      "text/plain": [
       "\u001b[1m Trainable params: \u001b[0m\u001b[38;5;34m308,508\u001b[0m (1.18 MB)\n"
      ]
     },
     "metadata": {},
     "output_type": "display_data"
    },
    {
     "data": {
      "text/html": [
       "<pre style=\"white-space:pre;overflow-x:auto;line-height:normal;font-family:Menlo,'DejaVu Sans Mono',consolas,'Courier New',monospace\"><span style=\"font-weight: bold\"> Non-trainable params: </span><span style=\"color: #00af00; text-decoration-color: #00af00\">896</span> (3.50 KB)\n",
       "</pre>\n"
      ],
      "text/plain": [
       "\u001b[1m Non-trainable params: \u001b[0m\u001b[38;5;34m896\u001b[0m (3.50 KB)\n"
      ]
     },
     "metadata": {},
     "output_type": "display_data"
    },
    {
     "data": {
      "text/html": [
       "<pre style=\"white-space:pre;overflow-x:auto;line-height:normal;font-family:Menlo,'DejaVu Sans Mono',consolas,'Courier New',monospace\"><span style=\"font-weight: bold\"> Optimizer params: </span><span style=\"color: #00af00; text-decoration-color: #00af00\">617,018</span> (2.35 MB)\n",
       "</pre>\n"
      ],
      "text/plain": [
       "\u001b[1m Optimizer params: \u001b[0m\u001b[38;5;34m617,018\u001b[0m (2.35 MB)\n"
      ]
     },
     "metadata": {},
     "output_type": "display_data"
    }
   ],
   "source": [
    "model.summary()"
   ]
  },
  {
   "cell_type": "code",
   "execution_count": 20,
   "id": "886f3302-c6dc-48af-945b-30994256b84b",
   "metadata": {},
   "outputs": [],
   "source": [
    "# 1. Define representative dataset generator\n",
    "def generate_representative_data(X_train, num_samples=100):\n",
    "    \"\"\"Yields input data in correct format for quantization calibration\"\"\"\n",
    "    for i in range(min(num_samples, len(X_train))):\n",
    "        # Reshape to match model's expected input shape: (1, 63, 1)\n",
    "        sample = X_train[i].reshape(1, 63, 1).astype(np.float32)\n",
    "        yield [sample]  # Note: Using list format instead of dict"
   ]
  },
  {
   "cell_type": "code",
   "execution_count": 21,
   "id": "40ad4cde-5ca2-4e9c-9682-c724f3996975",
   "metadata": {},
   "outputs": [
    {
     "name": "stdout",
     "output_type": "stream",
     "text": [
      "INFO:tensorflow:Assets written to: /tmp/tmp7tt20ou7/assets\n"
     ]
    },
    {
     "name": "stderr",
     "output_type": "stream",
     "text": [
      "INFO:tensorflow:Assets written to: /tmp/tmp7tt20ou7/assets\n"
     ]
    },
    {
     "name": "stdout",
     "output_type": "stream",
     "text": [
      "Saved artifact at '/tmp/tmp7tt20ou7'. The following endpoints are available:\n",
      "\n",
      "* Endpoint 'serve'\n",
      "  args_0 (POSITIONAL_ONLY): TensorSpec(shape=(None, 63, 1), dtype=tf.float32, name='input_layer')\n",
      "Output Type:\n",
      "  TensorSpec(shape=(None, 28), dtype=tf.float32, name=None)\n",
      "Captures:\n",
      "  134198253144016: TensorSpec(shape=(), dtype=tf.resource, name=None)\n",
      "  134198253153168: TensorSpec(shape=(), dtype=tf.resource, name=None)\n",
      "  134198253441744: TensorSpec(shape=(), dtype=tf.resource, name=None)\n",
      "  134198253443856: TensorSpec(shape=(), dtype=tf.resource, name=None)\n",
      "  134198253437872: TensorSpec(shape=(), dtype=tf.resource, name=None)\n",
      "  134198253439456: TensorSpec(shape=(), dtype=tf.resource, name=None)\n",
      "  134198253452656: TensorSpec(shape=(), dtype=tf.resource, name=None)\n",
      "  134198253438400: TensorSpec(shape=(), dtype=tf.resource, name=None)\n",
      "  134198253524016: TensorSpec(shape=(), dtype=tf.resource, name=None)\n",
      "  134198253522080: TensorSpec(shape=(), dtype=tf.resource, name=None)\n",
      "  134198253520320: TensorSpec(shape=(), dtype=tf.resource, name=None)\n",
      "  134198253524544: TensorSpec(shape=(), dtype=tf.resource, name=None)\n",
      "  134198253532112: TensorSpec(shape=(), dtype=tf.resource, name=None)\n",
      "  134198253531584: TensorSpec(shape=(), dtype=tf.resource, name=None)\n",
      "  134198253733664: TensorSpec(shape=(), dtype=tf.resource, name=None)\n",
      "  134198253732784: TensorSpec(shape=(), dtype=tf.resource, name=None)\n",
      "  134198253534928: TensorSpec(shape=(), dtype=tf.resource, name=None)\n",
      "  134198253732960: TensorSpec(shape=(), dtype=tf.resource, name=None)\n",
      "  134198253743696: TensorSpec(shape=(), dtype=tf.resource, name=None)\n",
      "  134198253744400: TensorSpec(shape=(), dtype=tf.resource, name=None)\n",
      "  134198253744752: TensorSpec(shape=(), dtype=tf.resource, name=None)\n",
      "  134198210941120: TensorSpec(shape=(), dtype=tf.resource, name=None)\n"
     ]
    },
    {
     "name": "stderr",
     "output_type": "stream",
     "text": [
      "/home/mercy/miniconda3/envs/myenv/lib/python3.10/site-packages/tensorflow/lite/python/convert.py:854: UserWarning: Statistics for quantized inputs were expected, but not specified; continuing anyway.\n",
      "  warnings.warn(\n",
      "W0000 00:00:1752238112.277170     803 tf_tfl_flatbuffer_helpers.cc:365] Ignored output_format.\n",
      "W0000 00:00:1752238112.277210     803 tf_tfl_flatbuffer_helpers.cc:368] Ignored drop_control_dependency.\n",
      "2025-07-11 17:48:32.277525: I tensorflow/cc/saved_model/reader.cc:83] Reading SavedModel from: /tmp/tmp7tt20ou7\n",
      "2025-07-11 17:48:32.278436: I tensorflow/cc/saved_model/reader.cc:52] Reading meta graph with tags { serve }\n",
      "2025-07-11 17:48:32.278447: I tensorflow/cc/saved_model/reader.cc:147] Reading SavedModel debug info (if present) from: /tmp/tmp7tt20ou7\n",
      "2025-07-11 17:48:32.290565: I tensorflow/cc/saved_model/loader.cc:236] Restoring SavedModel bundle.\n",
      "2025-07-11 17:48:32.367624: I tensorflow/cc/saved_model/loader.cc:220] Running initialization op on SavedModel bundle at path: /tmp/tmp7tt20ou7\n",
      "2025-07-11 17:48:32.387650: I tensorflow/cc/saved_model/loader.cc:471] SavedModel load for tags { serve }; Status: success: OK. Took 110128 microseconds.\n",
      "fully_quantize: 0, inference_type: 6, input_inference_type: FLOAT32, output_inference_type: FLOAT32\n"
     ]
    },
    {
     "name": "stdout",
     "output_type": "stream",
     "text": [
      "✅ TFLite model saved as Alphabetmodel.tflite\n"
     ]
    }
   ],
   "source": [
    "converter = tf.lite.TFLiteConverter.from_keras_model(model)\n",
    "# Optimization\n",
    "converter.optimizations = [tf.lite.Optimize.DEFAULT]\n",
    "\n",
    "converter.target_spec.supported_ops = [\n",
    "          tf.lite.OpsSet.TFLITE_BUILTINS,\n",
    "          tf.lite.OpsSet.SELECT_TF_OPS \n",
    "]\n",
    "\n",
    "converter.inference_input_type = tf.float32\n",
    "converter.inference_output_type = tf.float32\n",
    "\n",
    "converter.representative_dataset = lambda: generate_representative_data(X_train)\n",
    "\n",
    "tflite_model = converter.convert()\n",
    "\n",
    "# Save the TFLite model\n",
    "with open('Alphabetmodel.tflite', 'wb') as f:\n",
    "    f.write(tflite_model)\n",
    "\n",
    "print(\"✅ TFLite model saved as Alphabetmodel.tflite\")"
   ]
  },
  {
   "cell_type": "code",
   "execution_count": null,
   "id": "f0dc067b-8627-4e7c-b3d7-236947d4a315",
   "metadata": {},
   "outputs": [],
   "source": []
  }
 ],
 "metadata": {
  "kernelspec": {
   "display_name": "Python (myenv)",
   "language": "python",
   "name": "myenv"
  },
  "language_info": {
   "codemirror_mode": {
    "name": "ipython",
    "version": 3
   },
   "file_extension": ".py",
   "mimetype": "text/x-python",
   "name": "python",
   "nbconvert_exporter": "python",
   "pygments_lexer": "ipython3",
   "version": "3.10.16"
  }
 },
 "nbformat": 4,
 "nbformat_minor": 5
}
